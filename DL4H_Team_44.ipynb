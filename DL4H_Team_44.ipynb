{
  "nbformat": 4,
  "nbformat_minor": 0,
  "metadata": {
    "colab": {
      "private_outputs": true,
      "provenance": []
    },
    "kernelspec": {
      "name": "python3",
      "display_name": "Python 3"
    },
    "language_info": {
      "name": "python"
    }
  },
  "cells": [
    {
      "cell_type": "markdown",
      "source": [
        "#Deep Learning for Healthcare -- Team 44<br>\n",
        "Replicated Paper: An attention based deep learning model of clinical events in the intensive care unit<br>\n",
        "<br>\n",
        "Github Repo: https://github.com/jgbyc/DL4H_Team_44.git\n",
        "<br><br>\n",
        "Kun Ren (kunren2@illinois.edu)<br>\n",
        "Yichen Bi (ybi5@illinois.edu)"
      ],
      "metadata": {
        "id": "uf2aSPU98MSE"
      }
    },
    {
      "cell_type": "markdown",
      "source": [
        "#Introduction\n",
        "* Background of the problem\n",
        "  * What type of problem?<br>\n",
        "  Develop and implement predictive models and computer assisted diagnostic (CAD) solutions that are interpretable, generalizable, and able to predict important clinical outcomes to aid in clinical care and provide high level supportive analytics for intensive care units (ICUs)<br><br>\n",
        "  * What is the importance/meaning of solving the problem?<br>\n",
        "  It is important to prevent information overload to ensure safe and efficient delivery of patient care. Reducing information overload is associated with more rapid care with fewer errors.<br><br>\n",
        "  * What is the difficulty of the problem?<br>\n",
        "  Traditional deep learning models are difficult to implement due to their reliance on large datasets which are rare in healthcare. Moreover, these models often exhibit limited interpretability, which have driven the adoption of transparent linear models.<br><br>\n",
        "  * The state-of-the-art methods and effectiveness.\n",
        "  Two popular methods are available: <br><br>\n",
        "  Scoring system. Scoring methods are usually trained on one outcome and their effectiveness will be significantly compromised when utilized for another for which they were not designed.<br>\n",
        "  Traditional RNN models. Despite the strength of RNN models, their model interpretability are generally low. <br><br>\n",
        "* Paper explanation\n",
        "  * What did the paper propose?<br>\n",
        "   The paper “An attention based deep learning model of clinical events in the intensive care unit” explores the application of advanced deep learning techniques to the critical field of healthcare. It introduces a model that employs Long Short-Term Memory (LSTM) networks enhanced with an attention mechanism to analyze clinical events within the ICU setting. The model is trained on the MIMIC-III dataset, aiming to predict the daily likelihood of sepsis, myocardial infarction, and the need for vancomycin antibiotic administration3.\n",
        "\n",
        "  * What is the innovations of the method?<br>\n",
        "  The paper uses a Long Short-Term Memory (LSTM) networks enhanced with an attention mechanism. This enhanced mechanism can significantly improve the model interpretability.\n",
        "\n",
        "  * How well the proposed method work (in its own metrics)?<br>\n",
        "  The AUC of same-day myocardial ischemia, sepsis and vancomycin administration are 0.834, 0.952 and 0.904 respectively.\n",
        "\n",
        "  * What is the contribution to the research regime?<br><br>\n",
        "  The contribution of this paper is twofold:<br>\n",
        "  Innovative Use of Attention Mechanism: It leverages the attention mechanism to provide insights into which clinical data points are most influential in predicting outcomes, thereby offering a layer of interpretability often missing in complex models.<br>\n",
        "  Clinical Decision Support: By accurately predicting critical clinical events, the model has the potential to serve as a decision support tool, helping to manage the vast amount of data ICU physicians must process, and ultimately improving patient care outcomes.<br>\n",
        "  This paper stands out for its potential impact on the healthcare industry, providing a pathway towards more informed and data-driven clinical decisions in high-stakes ICU environments.\n"
      ],
      "metadata": {
        "id": "DzzvuVTAlWcj"
      }
    },
    {
      "cell_type": "markdown",
      "source": [
        "# Mount Notebook to Google Drive and Change the Workspace Folder\n",
        "In order to run this notebook, preprocessed data in Pickled objects and pretrained modles must be stored under folder Colab_notebooks.\n",
        "\n",
        "Below is the required file/folder structure.\n",
        "\n",
        "\n",
        "\n",
        "Colab_notebooks<br>\n",
        "├── pickled_objects<br>\n",
        "├── saved_models<br>\n",
        "├── figures<br>\n",
        "├── keract.py<br>\n",
        "\n",
        "This step will mount the notebook to Google Drive and change the Workspace to Colab_notebooks folder.\n"
      ],
      "metadata": {
        "id": "dlv6knX04FiY"
      }
    },
    {
      "cell_type": "code",
      "source": [
        "from google.colab import drive\n",
        "drive.mount('/content/drive/')\n",
        "import os\n",
        "os.chdir('/content/drive/MyDrive/Colab_Notebooks')"
      ],
      "metadata": {
        "id": "sfk8Zrul_E8V"
      },
      "execution_count": null,
      "outputs": []
    },
    {
      "cell_type": "code",
      "source": [
        "import gc\n",
        "import numpy as np\n",
        "import pandas as pd\n",
        "import keras.backend as K\n",
        "from keras.models import load_model\n",
        "from seaborn import heatmap\n",
        "import seaborn as sns\n",
        "import pickle\n",
        "from sklearn.metrics import roc_curve, accuracy_score, roc_auc_score\n",
        "from sklearn.metrics import classification_report, confusion_matrix\n",
        "from scipy.stats import kurtosis\n",
        "\n",
        "#To visulize the attention layers and generate its heatmap, Keract module is imported from https://github.com/philipperemy/keract\n",
        "import keract\n",
        "\n",
        "# plot part.\n",
        "import matplotlib.pyplot as plt\n",
        "from matplotlib.colors import ListedColormap\n",
        "%matplotlib inline"
      ],
      "metadata": {
        "id": "WJInY1sJz39j"
      },
      "execution_count": null,
      "outputs": []
    },
    {
      "cell_type": "markdown",
      "source": [
        "# Scope of Reproducibility:\n",
        "The original paper performs three experiments onmyocardial infarction, sepsis and vancomycin administration respectively with the same model strucuture. Due to the 8 min code running time limits, we will only reproduce and present the model results for vancomycin administration target.\n",
        "\n",
        "\n",
        "1. Hypothesis 1: The LSTM-based model with an attention mechanism can accurately predict daily clinical event vancomycin administration in the ICU.\n",
        "2. Hypothesis 2: The attention mechanism within the model provides interpretability by highlighting influential input variables that impact the model’s predictions.\n",
        "\n",
        "3. Experiment 1: Replicate the model training using the MIMIC-III dataset to predict the daily occurrence of vancomycin administration. The performance will be measured using the area under the receiver operating characteristic curve (AUC).\n",
        "\n",
        "4. Experiment 2: Generate attention maps to identify the variables that the model attends to most when making predictions. This will test the model’s interpretability and its potential utility for clinicians."
      ],
      "metadata": {
        "id": "kSKOilPEqsQW"
      }
    },
    {
      "cell_type": "markdown",
      "source": [
        "# Methodology"
      ],
      "metadata": {
        "id": "xWAHJ_1CdtaA"
      }
    },
    {
      "cell_type": "markdown",
      "source": [
        "##  Data\n",
        "Data includes raw data (MIMIC III tables), descriptive statistics (our homework questions), and data processing (feature engineering).\n",
        "  * Source of the data: where the data is collected from; if data is synthetic or self-generated, explain how. If possible, please provide a link to the raw datasets.\n",
        "  * Statistics: include basic descriptive statistics of the dataset like size, cross validation split, label distribution, etc.\n",
        "  * Data process: how do you munipulate the data, e.g., change the class labels, split the dataset to train/valid/test, refining the dataset.\n",
        "  * Illustration: printing results, plotting figures for illustration.\n",
        "  * You can upload your raw dataset to Google Drive and mount this Colab to the same directory. If your raw dataset is too large, you can upload the processed dataset and have a code to load the processed dataset."
      ],
      "metadata": {
        "id": "2NbPHUTMbkD3"
      }
    },
    {
      "cell_type": "markdown",
      "source": [
        "### Source of the data\n",
        "Our dataset was constructed by processing the MIMIC III Clinical Dataset. We have finished the training and been provided the access to the MIMIC III database."
      ],
      "metadata": {
        "id": "Kly_evEG756l"
      }
    },
    {
      "cell_type": "code",
      "source": [
        "# Load the pre_processed MIMIC III data.\n",
        "X_TRAIN_VANCOMYCIN = pickle.load(open('./pickled_objects/X_TRAIN_VANCOMYCIN.txt', 'rb'))\n",
        "Y_TRAIN_VANCOMYCIN = pickle.load(open('./pickled_objects/Y_TRAIN_VANCOMYCIN.txt', 'rb'))\n",
        "\n",
        "Y_VAL_VANCOMYCIN = pickle.load(open('./pickled_objects/Y_VAL_VANCOMYCIN.txt', 'rb'))\n",
        "X_VAL_VANCOMYCIN = pickle.load(open('./pickled_objects/X_VAL_VANCOMYCIN.txt', 'rb'))\n",
        "\n",
        "Y_TEST_VANCOMYCIN = pickle.load(open('./pickled_objects/Y_TEST_VANCOMYCIN.txt', 'rb'))\n",
        "X_TEST_VANCOMYCIN = pickle.load(open('./pickled_objects/X_TEST_VANCOMYCIN.txt', 'rb'))\n",
        "\n",
        "y_boolmat_test_VANCOMYCIN = pickle.load(open('./pickled_objects/y_boolmat_test_VANCOMYCIN.txt', 'rb'))\n",
        "x_boolmat_test_VANCOMYCIN = pickle.load(open('./pickled_objects/x_boolmat_test_VANCOMYCIN.txt', 'rb'))\n",
        "\n",
        "no_features_cols_VANCOMYCIN = pickle.load(open('./pickled_objects/no_feature_cols_VANCOMYCIN.txt', 'rb'))\n",
        "features_VANCOMYCIN = pickle.load(open('./pickled_objects/features_VANCOMYCIN.txt', 'rb'))\n",
        "\n",
        "\n",
        "my_cmap= sns.cubehelix_palette(14, as_cmap=True)\n",
        "color_list = sns.cubehelix_palette(14)\n",
        "color_list_reduced = sns.cubehelix_palette(7)\n",
        "X_TRAIN = X_TRAIN_VANCOMYCIN\n",
        "X_VAL = X_VAL_VANCOMYCIN\n",
        "Y_TRAIN = Y_TRAIN_VANCOMYCIN\n",
        "Y_VAL = Y_VAL_VANCOMYCIN\n",
        "Y_TEST = Y_TEST_VANCOMYCIN\n",
        "X_TEST = X_TEST_VANCOMYCIN\n",
        "y_boolmat_test = y_boolmat_test_VANCOMYCIN\n",
        "x_boolmat_test = x_boolmat_test_VANCOMYCIN\n",
        "features = features_VANCOMYCIN\n",
        "\n",
        "Y_TOTAL = np.concatenate([Y_TRAIN, Y_VAL, Y_TEST], axis=0)"
      ],
      "metadata": {
        "id": "6TTpfqbK-bvg"
      },
      "execution_count": null,
      "outputs": []
    },
    {
      "cell_type": "markdown",
      "source": [
        "### Statistics:\n"
      ],
      "metadata": {
        "id": "k_AaQNxRBlBS"
      }
    },
    {
      "cell_type": "code",
      "source": [
        "# Show total number of VANCOMYCIN labels\n",
        "Y_VANCOMYCIN = np.concatenate([Y_TRAIN_VANCOMYCIN, Y_VAL_VANCOMYCIN], axis=0)\n",
        "print(np.sum(np.sum(Y_VANCOMYCIN.squeeze(), axis=1) > 0))"
      ],
      "metadata": {
        "id": "pJRw3LX6B0da"
      },
      "execution_count": null,
      "outputs": []
    },
    {
      "cell_type": "code",
      "source": [
        "# Show number of training dataset used for VANCOMYCIN administrtion\n",
        "#print(no_features_cols_VANCOMYCIN)\n",
        "\n",
        "print(X_TRAIN_VANCOMYCIN.shape)"
      ],
      "metadata": {
        "id": "gpysCsWhHFP_"
      },
      "execution_count": null,
      "outputs": []
    },
    {
      "cell_type": "markdown",
      "source": [
        "### Data Process:\n",
        "Individual patient ICU admissions 2 days or longer were identified. ICU stays longer than 14 days were truncated to the first 14 days. When a patient’s stay was fewer than 14 days, extra days were masked out with 0 in training.\n",
        "\n",
        "The target variables are constructed when receipt of any dose of vancomycin.<br>\n",
        "Predictor are similarly constructed and variables whose more than 75% values are missing are excluded. Totally, 119 features are selected for the modeling purpose. These 119 features are processed into 225 variables by using statistical conversions (average, max, min, std).<br><br>\n",
        "\n",
        "The data have been preprocessed offline and the processed data are stored in pickle formats under pickled_objects folder"
      ],
      "metadata": {
        "id": "8oCxX7NlIYFT"
      }
    },
    {
      "cell_type": "markdown",
      "source": [
        "##   Model\n",
        "The model includes the model definitation which usually is a class, model training, and other necessary parts.\n",
        "  * Model architecture: layer number/size/type, activation function, etc\n",
        "  * Training objectives: loss function, optimizer, weight of each loss term, etc\n",
        "  * Others: whether the model is pretrained, Monte Carlo simulation for uncertainty analysis, etc\n",
        "  * The code of model should have classes of the model, functions of model training, model validation, etc.\n",
        "  * If your model training is done outside of this notebook, please upload the trained model here and develop a function to load and test it."
      ],
      "metadata": {
        "id": "3muyDPFPbozY"
      }
    },
    {
      "cell_type": "markdown",
      "source": [
        "### Model Architecture\n",
        "Input -> Attention Layers -> Masking Layers -> 256 Units LSTM Layers -> Time Distributed Layers -> Fully Connected Layer (Sigmoid Activation)"
      ],
      "metadata": {
        "id": "wluUalsTAaVU"
      }
    },
    {
      "cell_type": "markdown",
      "source": [
        "### Training Objectives\n",
        "The model uses:<br>\n",
        "* Optimizer that implements the RMSprop algorithm.\n",
        "* Loss function that implements binary cross entropy.\n",
        "\n",
        "Training Code rnn_mimic.py can be found in Github repo https://github.com/jgbyc/DL4H_Team_44.git"
      ],
      "metadata": {
        "id": "2Ks2nlU5F-PI"
      }
    },
    {
      "cell_type": "markdown",
      "source": [
        "### Pre-trained models\n",
        "Due to the 8 min notebook running limits, the model is trained outside the notebook and store in the folder saved_models."
      ],
      "metadata": {
        "id": "tr_-89HNHqX1"
      }
    },
    {
      "cell_type": "code",
      "source": [
        "target = 'VANCOMYCIN'\n",
        "TIME_STEPS = X_VAL.shape[1] #number of time_steps"
      ],
      "metadata": {
        "id": "U3ElCQp1MNKR"
      },
      "execution_count": null,
      "outputs": []
    },
    {
      "cell_type": "code",
      "source": [
        "#function to load the pre-trained models\n",
        "def return_loaded_model(model_name):\n",
        "  loaded_model = load_model(\"./saved_models/{0}.h5\".format(model_name))\n",
        "  return loaded_model"
      ],
      "metadata": {
        "id": "eVkRC2fp3aYd"
      },
      "execution_count": null,
      "outputs": []
    },
    {
      "cell_type": "code",
      "source": [
        "# The models are trained offline. Here we load the model from Google Drive\n",
        "# Models trained with various fractions of training data\n",
        "m = return_loaded_model(model_name=\"kaji_mach_final_no_mask_VANCOMYCIN_pad14\")\n",
        "m_80 = return_loaded_model(model_name=\"kaji_mach_final_no_mask_VANCOMYCIN_pad14_80_percent\")\n",
        "m_60 = return_loaded_model(model_name=\"kaji_mach_final_no_mask_VANCOMYCIN_pad14_60_percent\")\n",
        "m_40 = return_loaded_model(model_name=\"kaji_mach_final_no_mask_VANCOMYCIN_pad14_40_percent\")\n",
        "m_20 = return_loaded_model(model_name=\"kaji_mach_final_no_mask_VANCOMYCIN_pad14_20_percent\")\n",
        "m_10 = return_loaded_model(model_name=\"kaji_mach_final_no_mask_VANCOMYCIN_pad14_10_percent\")\n",
        "m_5 = return_loaded_model(model_name=\"kaji_mach_final_no_mask_VANCOMYCIN_pad14_5_percent\")"
      ],
      "metadata": {
        "id": "a6zmNsbDSOWY"
      },
      "execution_count": null,
      "outputs": []
    },
    {
      "cell_type": "markdown",
      "source": [
        "# Evaluation and Results\n",
        "The results includes two parts\n",
        "* AUC Results to show the model accuracy.\n",
        "* Heatmap to visulize the attention weights on each features on each day.\n"
      ],
      "metadata": {
        "id": "gX6bCcZNuxmz"
      }
    },
    {
      "cell_type": "markdown",
      "source": [
        "## AUC Results\n",
        "Calculate the AUC results for models trained with various fractions of data\n"
      ],
      "metadata": {
        "id": "o9D5Gww8LDMj"
      }
    },
    {
      "cell_type": "code",
      "source": [
        "# Finish the prediction by using the test data and pre-trained models\n",
        "X_TEST_MASK = np.copy(X_TEST)\n",
        "X_TEST_MASK[x_boolmat_test] = 0\n",
        "Y_PRED_mask_0 = m.predict(X_TEST_MASK)\n",
        "del X_TEST_MASK\n",
        "\n",
        "X_TEST_MASK = np.copy(X_TEST)\n",
        "X_TEST_MASK[x_boolmat_test] = 0\n",
        "Y_PRED_80_percent = m_80.predict(X_TEST_MASK)\n",
        "del X_TEST_MASK\n",
        "\n",
        "X_TEST_MASK = np.copy(X_TEST)\n",
        "X_TEST_MASK[x_boolmat_test] = 0\n",
        "Y_PRED_60_percent = m_60.predict(X_TEST_MASK)\n",
        "del X_TEST_MASK\n",
        "\n",
        "X_TEST_MASK = np.copy(X_TEST)\n",
        "X_TEST_MASK[x_boolmat_test] = 0\n",
        "Y_PRED_40_percent = m_40.predict(X_TEST_MASK)\n",
        "del X_TEST_MASK\n",
        "\n",
        "X_TEST_MASK = np.copy(X_TEST)\n",
        "X_TEST_MASK[x_boolmat_test] = 0\n",
        "Y_PRED_20_percent = m_20.predict(X_TEST_MASK)\n",
        "del X_TEST_MASK\n",
        "\n",
        "X_TEST_MASK = np.copy(X_TEST)\n",
        "X_TEST_MASK[x_boolmat_test] = 0\n",
        "Y_PRED_10_percent = m_10.predict(X_TEST_MASK)\n",
        "del X_TEST_MASK\n",
        "\n",
        "X_TEST_MASK = np.copy(X_TEST)\n",
        "X_TEST_MASK[x_boolmat_test] = 0\n",
        "Y_PRED_5_percent = m_5.predict(X_TEST_MASK)\n",
        "del X_TEST_MASK"
      ],
      "metadata": {
        "id": "LjW9bCkouv8O"
      },
      "execution_count": null,
      "outputs": []
    },
    {
      "cell_type": "code",
      "source": [
        "# Generate the ROC curve for models trained with various fractions of training data.\n",
        "(fpr_100, tpr_100, thresholds_100) = roc_curve(Y_TEST[~y_boolmat_test], Y_PRED_mask_0[~y_boolmat_test])\n",
        "(fpr_80, tpr_80, thresholds_80) = roc_curve(Y_TEST[~y_boolmat_test], Y_PRED_80_percent[~y_boolmat_test])\n",
        "(fpr_60, tpr_60, thresholds_60) = roc_curve(Y_TEST[~y_boolmat_test], Y_PRED_60_percent[~y_boolmat_test])\n",
        "(fpr_40, tpr_40, thresholds_40) = roc_curve(Y_TEST[~y_boolmat_test], Y_PRED_40_percent[~y_boolmat_test])\n",
        "(fpr_20, tpr_20, thresholds_20) = roc_curve(Y_TEST[~y_boolmat_test], Y_PRED_20_percent[~y_boolmat_test])\n",
        "(fpr_10, tpr_10, thresholds_10) = roc_curve(Y_TEST[~y_boolmat_test], Y_PRED_10_percent[~y_boolmat_test])\n",
        "(fpr_5, tpr_5, thresholds_5) = roc_curve(Y_TEST[~y_boolmat_test], Y_PRED_5_percent[~y_boolmat_test])\n",
        "\n",
        "fpr_tprs = [(fpr_100, tpr_100), (fpr_80, tpr_80), (fpr_60, tpr_60),\n",
        "            (fpr_40, tpr_40), (fpr_20, tpr_20), (fpr_10, tpr_10), (fpr_5, tpr_5)]\n",
        "\n",
        "fig, ax = plt.subplots()\n",
        "ax.set_facecolor('white')\n",
        "\n",
        "for color, fpr_tpr_tuple, i in zip(np.array(color_list_reduced)[::-1], fpr_tprs, [100,80,60,40,20,10,5]):\n",
        "    plt.plot(fpr_tpr_tuple[0], fpr_tpr_tuple[1], label='{0}% of Training Data'.format(i), color=color)\n",
        "\n",
        "plt.plot([0, 1], [0, 1], color='black', linestyle='--')\n",
        "plt.xlabel('False Positive Rate', fontsize=15)\n",
        "plt.ylabel('True Positive Rate', fontsize=15)\n",
        "plt.axhline(0, color='black')\n",
        "plt.axvline(0, color='black')\n",
        "legend = plt.legend(loc=\"lower right\", prop={'size': 10}, bbox_to_anchor=(1.48, 0.05))\n",
        "plt.savefig('./figures/{0}_less_data_roc_curves_Supplemental_Figure_2.svg'.format(target), format='svg',\n",
        "             dpi=300, facecolor='white', transparent=True, bbox_extra_artists=(legend,), bbox_inches='tight')"
      ],
      "metadata": {
        "id": "tbjVaSIHaVbx"
      },
      "execution_count": null,
      "outputs": []
    },
    {
      "cell_type": "code",
      "source": [
        "# Print AUC score for models with various fractions of training data.\n",
        "print('The AUC score of 100% data is {0}'.format(roc_auc_score(Y_TEST[~y_boolmat_test], Y_PRED_mask_0[~y_boolmat_test])))\n",
        "print('The AUC score of 80% data is {0}'.format(roc_auc_score(Y_TEST[~y_boolmat_test], Y_PRED_80_percent[~y_boolmat_test])))\n",
        "print('The AUC score of 60% data is {0}'.format(roc_auc_score(Y_TEST[~y_boolmat_test], Y_PRED_60_percent[~y_boolmat_test])))\n",
        "print('The AUC score of 40% data is {0}'.format(roc_auc_score(Y_TEST[~y_boolmat_test], Y_PRED_40_percent[~y_boolmat_test])))\n",
        "print('The AUC score of 20% data is {0}'.format(roc_auc_score(Y_TEST[~y_boolmat_test], Y_PRED_20_percent[~y_boolmat_test])))\n",
        "print('The AUC score of 10% data is {0}'.format(roc_auc_score(Y_TEST[~y_boolmat_test], Y_PRED_10_percent[~y_boolmat_test])))\n",
        "print('The AUC score of  5% data is {0}'.format(roc_auc_score(Y_TEST[~y_boolmat_test], Y_PRED_5_percent[~y_boolmat_test])))\n",
        "print('\\n')\n",
        "\n",
        "# Compute the metrics for model trained with 100% data\n",
        "TN, FP, FN, TP = confusion_matrix(Y_TEST[~y_boolmat_test], np.around(Y_PRED_mask_0[~y_boolmat_test])).ravel()\n",
        "PPV = TP/(TP+FP)\n",
        "print(\"PPV for full model is {0}\".format(PPV))\n",
        "CR = classification_report(Y_TEST[~y_boolmat_test], np.around(Y_PRED_mask_0[~y_boolmat_test]))\n",
        "\n",
        "print(\"Sensitivity for full model is {0}\".format(CR.split('\\n')[3].split()[2]))\n",
        "# classification_report(Y_TEST[~y_boolmat_test], np.around(Y_PRED_mask_0[~y_boolmat_test]))\n",
        "\n",
        "print(classification_report(Y_TEST[~y_boolmat_test], np.around(Y_PRED_mask_0[~y_boolmat_test])))"
      ],
      "metadata": {
        "id": "9w1bJcY1deMy"
      },
      "execution_count": null,
      "outputs": []
    },
    {
      "cell_type": "markdown",
      "source": [
        "## Heatmap\n",
        "Generate the heatmap to visulize the attention weights on each features on each day."
      ],
      "metadata": {
        "id": "Kf0Hac9aKGXd"
      }
    },
    {
      "cell_type": "code",
      "source": [
        "# GET ACTIVATIONS MATRIX ; OUTPUT IS (BATCH_SIZE, TIME_STEPS, FEATURES)\n",
        "\n",
        "activations = keract.get_activations(m, X_TEST, output_format='simple', layer_names='attention_vec')['attention_vec']\n",
        "activations[x_boolmat_test] = np.nan\n",
        "\n",
        "# AVERAGE THE ATTENTION MATRIX OVER FEATURES ; OUTPUT IS BATCH_SIZE, TIME_STEPS\n",
        "attention_matrix = np.nanmean(activations, axis=2).squeeze()\n",
        "\n",
        "# AVERAGE ATTENTION VECTOR ACROSS SAMPLES ; OUTPUT IS 1D TIME_STEPS\n",
        "attention_vector_final = np.nanmean(attention_matrix, axis=0)\n",
        "\n",
        "# This allows us to rank color intensity by activation. We sort the intensities, then argsort the indices ##\n",
        "color_order = np.argsort(attention_vector_final, axis=0)\n",
        "color_order_order = np.argsort(color_order)"
      ],
      "metadata": {
        "id": "qDMnvgYEHCjz"
      },
      "execution_count": null,
      "outputs": []
    },
    {
      "cell_type": "code",
      "source": [
        "''' Due to the way features are selectd from the EMR and the fact potassium can be a\n",
        "delivered medication or a lab value, special care was taken to ensure proper representation on heatmaps '''\n",
        "\n",
        "if 'digoxin(?!.*fab)' in features:\n",
        "    indexy = features.index('digoxin(?!.*fab)')\n",
        "    features[indexy] = 'digoxin'\n",
        "\n",
        "if 'potassium_y' in features:\n",
        "    indexy = features.index('potassium_y')\n",
        "    features[indexy] = 'potassium_med'\n",
        "\n",
        "if 'potassium_x' in features:\n",
        "    indexy = features.index('potassium_x')\n",
        "    features[indexy] = 'potassium'\n",
        "\n",
        "if 'cipfloxacin' in features:\n",
        "    indexy = features.index('cipfloxacin')\n",
        "    features[indexy] = 'ciprofloxacin'\n",
        "\n",
        "features = [feature.lower() for feature in features]"
      ],
      "metadata": {
        "id": "hLOVO5ZGLVei"
      },
      "execution_count": null,
      "outputs": []
    },
    {
      "cell_type": "code",
      "source": [
        "## FEATURES BY CATEGORY ##\n",
        "\n",
        "cbc_diff_features = ['RBCs', 'WBCs', 'platelets', 'hemoglobin', 'hemocrit',\n",
        "                              'atypical lymphocytes', 'bands', 'basophils', 'eosinophils', 'neutrophils',\n",
        "                              'lymphocytes', 'monocytes', 'polymorphonuclear leukocytes']\n",
        "\n",
        "vital_features = ['temperature (F)', 'heart rate', 'respiratory rate', 'systolic', 'diastolic',\n",
        "                  'pulse oximetry']\n",
        "\n",
        "lab_features = ['troponin', 'HDL', 'LDL', 'BUN', 'INR', 'PTT', 'PT', 'triglycerides', 'creatinine',\n",
        "                  'glucose', 'sodium', 'potassium', 'chloride', 'bicarbonate',\n",
        "                  'blood culture', 'urine culture', 'surface culture', 'sputum' +\n",
        "                  ' culture', 'wound culture', 'Inspired O2 Fraction', 'central venous pressure',\n",
        "                  'PEEP Set', 'tidal volume', 'anion gap']\n",
        "\n",
        "demographic_features = ['age', 'm', 'black', 'daily weight', 'tobacco', 'diabetes', 'history of CV events']\n",
        "\n",
        "med_features = ['epoetin', 'warfarin', 'heparin', 'enoxaparin', 'fondaparinux',\n",
        "                                      'asprin', 'ketorolac', 'acetominophen',\n",
        "                                      'insulin', 'glucagon',\n",
        "                                      'potassium_med', 'calcium gluconate',\n",
        "                                      'fentanyl', 'magensium sulfate',\n",
        "                                      'D5W', 'dextrose',\n",
        "                                      'ranitidine', 'ondansetron', 'pantoprazole', 'metoclopramide',\n",
        "                                      'lisinopril', 'captopril', 'statin',\n",
        "                                      'hydralazine', 'diltiazem',\n",
        "                                      'carvedilol', 'metoprolol', 'labetalol', 'atenolol',\n",
        "                                      'amiodarone', 'digoxin',\n",
        "                                      'clopidogrel', 'nitroprusside', 'nitroglycerin',\n",
        "                                      'vasopressin', 'hydrochlorothiazide', 'furosemide',\n",
        "                                      'atropine', 'neostigmine',\n",
        "                                      'levothyroxine',\n",
        "                                      'oxycodone', 'hydromorphone', 'fentanyl citrate',\n",
        "                                      'tacrolimus', 'prednisone',\n",
        "                                      'phenylephrine', 'norepinephrine',\n",
        "                                      'haloperidol', 'phenytoin', 'trazodone', 'levetiracetam',\n",
        "                                      'diazepam', 'clonazepam',\n",
        "                                      'propofol', 'zolpidem', 'midazolam',\n",
        "                                      'albuterol', 'ipratropium',\n",
        "                                      'diphenhydramine',\n",
        "                                      '0.9% Sodium Chloride',\n",
        "                                      'phytonadione',\n",
        "                                      'metronidazole',\n",
        "                                      'cefazolin', 'cefepime', 'vancomycin', 'levofloxacin',\n",
        "                                      'ciprofloxacin', 'fluconazole',\n",
        "                                      'meropenem', 'ceftriaxone', 'piperacillin',\n",
        "                                      'ampicillin-sulbactam', 'nafcillin', 'oxacillin',\n",
        "                                      'amoxicillin', 'penicillin', 'SMX-TMP']\n",
        "\n",
        "cbc_diff_features = [[i.lower(), i.lower()+'_min', i.lower()+'_max', i.lower()+'_std'] for i in cbc_diff_features]\n",
        "vital_features = [[i.lower(), i.lower()+'_min', i.lower()+'_max', i.lower()+'_std'] for i in vital_features]\n",
        "lab_features = [[i.lower(), i.lower()+'_min', i.lower()+'_max', i.lower()+'_std'] for i in lab_features]\n",
        "demographic_features = [i.lower() for i in demographic_features]\n",
        "med_features = [i.lower() for i in med_features]\n",
        "\n",
        "cbc_diff_feature_array = np.array(cbc_diff_features).flatten()\n",
        "vital_features_array = np.array(vital_features).flatten()\n",
        "lab_features_array = np.array(lab_features).flatten()\n",
        "demographic_feature_array = np.array(demographic_features).flatten()\n",
        "med_features_array = np.array(med_features).flatten()\n",
        "\n",
        "features_built = np.hstack([cbc_diff_feature_array,vital_features_array,\n",
        "                            lab_features_array,demographic_feature_array,med_features_array])\n",
        "\n",
        "features_built_reduced = [i for i in features_built if i in features]"
      ],
      "metadata": {
        "id": "Eynv_4vRLWSi"
      },
      "execution_count": null,
      "outputs": []
    },
    {
      "cell_type": "code",
      "source": [
        "## Identifies the index in the features list in the desired order ##\n",
        "arranged_indices = [features.index(i) for i in features_built_reduced]"
      ],
      "metadata": {
        "id": "sAPE0gp0Lmoy"
      },
      "execution_count": null,
      "outputs": []
    },
    {
      "cell_type": "code",
      "source": [
        "## GET HEATMAPS FOR ALL INCIDENTS AVERAGE ##\n",
        "\n",
        "plt.figure(figsize = (8,20))\n",
        "\n",
        "sns.set(font_scale = 0.5)\n",
        "\n",
        "heatmap(np.nanmean(activations,axis=0).T[arranged_indices],\n",
        "        square=False,\n",
        "        yticklabels=np.array(features)[arranged_indices],\n",
        "        cmap=my_cmap)\n",
        "plt.gcf().axes[-1].tick_params(labelsize=10)\n",
        "plt.xticks(np.arange(TIME_STEPS)+0.5, np.arange(TIME_STEPS), fontsize=15) #, rotation=45,)\n",
        "plt.xlabel('Day', fontsize=15)\n",
        "plt.ylabel('Features', fontsize=20)\n",
        "plt.savefig('./figures/heatmap_{0}_med_ranked_average_activation_Figure_3.eps'.format(target),\n",
        "            format='eps', dpi=300, bbox_inches='tight')"
      ],
      "metadata": {
        "id": "uvH87ADgJUXQ"
      },
      "execution_count": null,
      "outputs": []
    },
    {
      "cell_type": "markdown",
      "source": [
        "**Note**: Heatmap is attached at the end of the report pdf file due to the printing issue of Colab. See appendix A"
      ],
      "metadata": {
        "id": "6WiZBBfOR-PR"
      }
    },
    {
      "cell_type": "markdown",
      "source": [
        "## Model comparison"
      ],
      "metadata": {
        "id": "8EAWAy_LwHlV"
      }
    },
    {
      "cell_type": "markdown",
      "source": [
        "### Comparing metrics with results of original paper\n",
        "In the original paper, the AUC score of VANCOMYCIN administration when trained with 100% data is 0.904.<br>\n",
        "Our experiment shows AUC score as 0.917 which slightly better than the orignal paper.\n",
        "<br><br>\n",
        "We also visually compare the heatmap with the orignal heatmap provided by the paper. It is very close."
      ],
      "metadata": {
        "id": "DLBlpTmnjIee"
      }
    },
    {
      "cell_type": "markdown",
      "source": [
        "# Discussion\n",
        "\n",
        "So far the paper is reproducible. However our project has not been finished.\n",
        "<br>\n",
        "In the final reports, we will perform below work.\n",
        "* Alter the hyperparameters to see its effects on the model\n",
        "* Perform the ablation study by removing attention layer, reduce the LSTM units numbers.\n",
        "\n",
        "\n"
      ],
      "metadata": {
        "id": "qH75TNU71eRH"
      }
    },
    {
      "cell_type": "markdown",
      "source": [
        "# References\n",
        "\n",
        "1. Kaji, D., Zech, J. R., Kim, J., Cho, S. K., Dangayach, N., Costa, A., & Oermann, E. K. (2019). An attention based deep learning model of clinical events in the intensive care unit. PLOS ONE, 14(2), e0211057. https://doi.org/10.1371/journal.pone.0211057\n",
        "2. Keract: Keras Activations + Gradients (https://github.com/philipperemy/keract)\n",
        "\n"
      ],
      "metadata": {
        "id": "SHMI2chl9omn"
      }
    },
    {
      "cell_type": "markdown",
      "source": [
        "# Appendix A\n",
        "\n",
        "Heatmap of all features\n",
        "\n"
      ],
      "metadata": {
        "id": "PMEUiBt3SUZc"
      }
    }
  ]
}